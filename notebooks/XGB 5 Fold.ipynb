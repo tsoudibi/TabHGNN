{
 "cells": [
  {
   "cell_type": "code",
   "execution_count": 2,
   "metadata": {},
   "outputs": [
    {
     "name": "stdout",
     "output_type": "stream",
     "text": [
      "0 query_indices [7, 2, 8]\n",
      "1 query_indices [3, 6, 1]\n",
      "2 query_indices [4, 0, 9]\n",
      "3 query_indices [5, 10]\n"
     ]
    }
   ],
   "source": [
    "import random\n",
    "    \n",
    "QUERY_POOL = list(range(11))\n",
    "random.shuffle(QUERY_POOL)\n",
    "for index in range(4):\n",
    "    # get the last 'batch_size_test' nodes as query nodes\n",
    "    query_indices = QUERY_POOL[:3]\n",
    "    QUERY_POOL = QUERY_POOL[3:]\n",
    "    print(index,'query_indices', query_indices)"
   ]
  },
  {
   "cell_type": "code",
   "execution_count": 4,
   "metadata": {},
   "outputs": [],
   "source": [
    "import pandas as pd\n",
    "# baic transformer Decoder model\n",
    "import torch\n",
    "import torch.nn as nn\n",
    "import torch.nn.functional as Fun\n",
    "import torch.optim as optim\n",
    "import numpy as np\n",
    "import xformers.ops as xops\n",
    "import math \n",
    "from typing import Optional, Union\n",
    "from torch import Tensor\n",
    "import random\n",
    "\n",
    "main_df = pd.read_csv('../data/RAW_data/adult.csv')\n",
    "main_df.head()\n",
    "DEVICE = 'cuda'\n",
    "# DEVICE = 'cpu'\n",
    "torch.random.manual_seed(42)\n",
    "random.seed(42)\n",
    "np.random.seed(42)\n",
    "torch.backends.cudnn.benchmark = False\n",
    "torch.backends.cudnn.deterministic = True\n",
    "torch.use_deterministic_algorithms(True)"
   ]
  },
  {
   "cell_type": "code",
   "execution_count": 6,
   "metadata": {},
   "outputs": [
    {
     "ename": "ImportError",
     "evalue": "attempted relative import with no known parent package",
     "output_type": "error",
     "traceback": [
      "\u001b[0;31m---------------------------------------------------------------------------\u001b[0m",
      "\u001b[0;31mImportError\u001b[0m                               Traceback (most recent call last)",
      "Cell \u001b[0;32mIn[6], line 1\u001b[0m\n\u001b[0;32m----> 1\u001b[0m \u001b[39mfrom\u001b[39;00m \u001b[39m.\u001b[39;00m\u001b[39m.\u001b[39;00m\u001b[39mdata\u001b[39;00m\u001b[39m.\u001b[39;00m\u001b[39mpreprocess\u001b[39;00m \u001b[39mimport\u001b[39;00m POOL_preprocess\n\u001b[1;32m      2\u001b[0m X_trans, inference_package , _  \u001b[39m=\u001b[39m POOL_preprocess(main_df)\n\u001b[1;32m      3\u001b[0m X_trans\n",
      "\u001b[0;31mImportError\u001b[0m: attempted relative import with no known parent package"
     ]
    }
   ],
   "source": [
    "from ..data.preprocess import POOL_preprocess\n",
    "X_trans, inference_package , _  = POOL_preprocess(main_df)\n",
    "X_trans"
   ]
  },
  {
   "cell_type": "markdown",
   "metadata": {},
   "source": [
    "## 5 FOLD (transformed input)"
   ]
  },
  {
   "cell_type": "code",
   "execution_count": 3,
   "metadata": {},
   "outputs": [
    {
     "name": "stdout",
     "output_type": "stream",
     "text": [
      "Fold 0:\n",
      "X_train: (39073, 14), X_test: (9769, 14)\n",
      "Y_train: (39073,), Y_test: (9769,)\n",
      "auc: 0.9215133961701206\n",
      "Fold 1:\n",
      "X_train: (39073, 14), X_test: (9769, 14)\n",
      "Y_train: (39073,), Y_test: (9769,)\n",
      "auc: 0.9221211330968312\n",
      "Fold 2:\n",
      "X_train: (39074, 14), X_test: (9768, 14)\n",
      "Y_train: (39074,), Y_test: (9768,)\n",
      "auc: 0.9205817394690794\n",
      "Fold 3:\n",
      "X_train: (39074, 14), X_test: (9768, 14)\n",
      "Y_train: (39074,), Y_test: (9768,)\n",
      "auc: 0.9171000039597399\n",
      "Fold 4:\n",
      "X_train: (39074, 14), X_test: (9768, 14)\n",
      "Y_train: (39074,), Y_test: (9768,)\n",
      "auc: 0.9190697360365623\n",
      "Average AUC: 0.9200772017464665\n"
     ]
    }
   ],
   "source": [
    "import numpy as np\n",
    "from sklearn.model_selection import KFold\n",
    "import xgboost as xgb\n",
    "from sklearn.metrics import roc_auc_score\n",
    "# import labelencoder\n",
    "from sklearn.preprocessing import LabelEncoder\n",
    "\n",
    "kf = KFold(n_splits=5, shuffle=True)\n",
    "AUCS = []\n",
    "main_df = pd.read_csv('adult.csv')\n",
    "main_df =X_trans\n",
    "\n",
    "# 進行5-fold交叉驗證\n",
    "for index, (train_index, test_index) in enumerate(kf.split(main_df)):\n",
    "    X_train, X_test = main_df.loc[train_index], main_df.loc[test_index]\n",
    "    \n",
    "    le = LabelEncoder()\n",
    "    Y_train, Y_test = X_train['income'] , X_test['income']\n",
    "    Y_train = le.fit_transform(Y_train)\n",
    "    Y_test = le.transform(Y_test)\n",
    "    \n",
    "    X_train, X_test = X_train.drop(columns='income'), X_test.drop(columns='income')\n",
    "    \n",
    "    CAT = ['workclass', 'education', 'marital-status', 'occupation', 'relationship', 'race', 'gender', 'native-country']\n",
    "    le2 = LabelEncoder()\n",
    "    le2.fit(main_df[CAT].astype(str).values.flatten())\n",
    "    for column in CAT:\n",
    "        le = LabelEncoder()\n",
    "        X_train[column] = le2.transform(X_train[column].astype(str))\n",
    "        X_test[column] = le2.transform(X_test[column].astype(str))\n",
    "    \n",
    "    print(f'Fold {index}:')\n",
    "    print(f'X_train: {X_train.shape}, X_test: {X_test.shape}')\n",
    "    print(f'Y_train: {Y_train.shape}, Y_test: {Y_test.shape}')\n",
    "    \n",
    "    model = xgb.XGBClassifier(random_state=42, n_jobs=-1)\n",
    "    model.fit(X_train, Y_train)\n",
    "    Y_prob = model.predict_proba(X_test)  # 预测概率\n",
    "    auc = roc_auc_score(Y_test, Y_prob[:, 1])\n",
    "    AUCS.append(auc)\n",
    "    print(f'auc: {auc}')\n",
    "print(f'Average AUC: {np.mean(AUCS)}')"
   ]
  },
  {
   "cell_type": "markdown",
   "metadata": {},
   "source": [
    "## 5-FOLD (original input)"
   ]
  },
  {
   "cell_type": "code",
   "execution_count": 4,
   "metadata": {},
   "outputs": [
    {
     "ename": "NameError",
     "evalue": "name 'main' is not defined",
     "output_type": "error",
     "traceback": [
      "\u001b[0;31m---------------------------------------------------------------------------\u001b[0m",
      "\u001b[0;31mNameError\u001b[0m                                 Traceback (most recent call last)",
      "Cell \u001b[0;32mIn[4], line 4\u001b[0m\n\u001b[1;32m      2\u001b[0m AUCS \u001b[39m=\u001b[39m []\n\u001b[1;32m      3\u001b[0m \u001b[39m# 進行5-fold交叉驗證\u001b[39;00m\n\u001b[0;32m----> 4\u001b[0m \u001b[39mfor\u001b[39;00m index, (train_index, test_index) \u001b[39min\u001b[39;00m \u001b[39menumerate\u001b[39m(kf\u001b[39m.\u001b[39msplit(main)):\n\u001b[1;32m      5\u001b[0m     X_train, X_test \u001b[39m=\u001b[39m X_trans\u001b[39m.\u001b[39mloc[train_index], X_trans\u001b[39m.\u001b[39mloc[test_index]\n\u001b[1;32m      6\u001b[0m     Y_train, Y_test \u001b[39m=\u001b[39m X_train[\u001b[39m'\u001b[39m\u001b[39mincome\u001b[39m\u001b[39m'\u001b[39m] \u001b[39m-\u001b[39m X_train[\u001b[39m'\u001b[39m\u001b[39mincome\u001b[39m\u001b[39m'\u001b[39m]\u001b[39m.\u001b[39mmin(), X_test[\u001b[39m'\u001b[39m\u001b[39mincome\u001b[39m\u001b[39m'\u001b[39m] \u001b[39m-\u001b[39m X_test[\u001b[39m'\u001b[39m\u001b[39mincome\u001b[39m\u001b[39m'\u001b[39m]\u001b[39m.\u001b[39mmin()\n",
      "\u001b[0;31mNameError\u001b[0m: name 'main' is not defined"
     ]
    }
   ],
   "source": [
    "kf = KFold(n_splits=5, shuffle=True)\n",
    "AUCS = []\n",
    "# 進行5-fold交叉驗證\n",
    "for index, (train_index, test_index) in enumerate(kf.split(main)):\n",
    "    X_train, X_test = X_trans.loc[train_index], X_trans.loc[test_index]\n",
    "    Y_train, Y_test = X_train['income'] - X_train['income'].min(), X_test['income'] - X_test['income'].min()\n",
    "    X_train, X_test = X_train.drop(columns='income'), X_test.drop(columns='income')\n",
    "    print(f'Fold {index}:')\n",
    "    print(f'X_train: {X_train.shape}, X_test: {X_test.shape}')\n",
    "    print(f'Y_train: {Y_train.shape}, Y_test: {Y_test.shape}')\n",
    "    \n",
    "    model = xgb.XGBClassifier()\n",
    "    model.fit(X_train, Y_train)\n",
    "    Y_prob = model.predict_proba(X_test)  # 预测概率\n",
    "    auc = roc_auc_score(Y_test, Y_prob[:, 1])\n",
    "    AUCS.append(auc)\n",
    "    print(f'auc: {auc}')\n",
    "print(f'Average AUC: {np.mean(AUCS)}')"
   ]
  },
  {
   "cell_type": "markdown",
   "metadata": {},
   "source": [
    "main_df: Average AUC: 0.9204860054219773 <br>\n",
    "processed:  Average AUC: 0.9200331315953896"
   ]
  },
  {
   "cell_type": "markdown",
   "metadata": {},
   "source": []
  },
  {
   "cell_type": "code",
   "execution_count": null,
   "metadata": {},
   "outputs": [],
   "source": []
  }
 ],
 "metadata": {
  "kernelspec": {
   "display_name": "GNN",
   "language": "python",
   "name": "python3"
  },
  "language_info": {
   "codemirror_mode": {
    "name": "ipython",
    "version": 3
   },
   "file_extension": ".py",
   "mimetype": "text/x-python",
   "name": "python",
   "nbconvert_exporter": "python",
   "pygments_lexer": "ipython3",
   "version": "3.10.12"
  },
  "orig_nbformat": 4
 },
 "nbformat": 4,
 "nbformat_minor": 2
}
