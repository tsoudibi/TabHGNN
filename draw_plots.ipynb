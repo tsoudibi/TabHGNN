{
 "cells": [
  {
   "cell_type": "code",
   "execution_count": 2,
   "metadata": {},
   "outputs": [],
   "source": [
    "import matplotlib.pyplot as plt\n",
    "import os \n",
    "import json"
   ]
  },
  {
   "cell_type": "code",
   "execution_count": 3,
   "metadata": {},
   "outputs": [
    {
     "name": "stdout",
     "output_type": "stream",
     "text": [
      "compas_binary_AUC: 0.7206121431929402\n",
      "eye_movements_num_binary_AUC: 0.6123181128698102\n",
      "eye_movements_cat_binary_AUC: 0.6181266252711749\n",
      "compas_ACC: 0.6682926893234253\n",
      "eye_movements_num_ACC: 0.5853174567222595\n",
      "eye_movements_cat_ACC: 0.590079379081726\n"
     ]
    },
    {
     "data": {
      "text/plain": [
       "<Figure size 640x480 with 0 Axes>"
      ]
     },
     "metadata": {},
     "output_type": "display_data"
    },
    {
     "data": {
      "text/plain": [
       "<Figure size 640x480 with 0 Axes>"
      ]
     },
     "metadata": {},
     "output_type": "display_data"
    }
   ],
   "source": [
    "# dataset_list = ['adult']\n",
    "dataset_list = ['compas','eye_movements_num','eye_movements_cat']\n",
    "# dataset_list = ['adult','compas','eye_movements_num','eye_movements_cat']\n",
    "metric_list = ['binary_AUC', 'ACC']\n",
    "\n",
    "for metric in metric_list:\n",
    "    plt.figure()\n",
    "    for dataset in dataset_list:\n",
    "        fold_best_test_metric = []\n",
    "        for fold in range(5):\n",
    "            path = 'logs/' + dataset + '_' + metric + '_' + str(fold) + '/log.json'\n",
    "            with open(path, 'r') as f:\n",
    "                log = json.load(f)\n",
    "                fold_best_test_metric.append(log['best_test_metric'])\n",
    "                # print(log['best_test_metric'])\n",
    "        print(dataset + '_' + metric + ': ' + str(sum(fold_best_test_metric)/5))    \n",
    "        # plt.bar(x = dataset + '_' + metric, height=sum(fold_best_test_metric)/5)\n",
    "        # plt.legend()\n",
    "        # plt.plot(fold_best_test_metric, label = dataset + '_' + metric)"
   ]
  },
  {
   "cell_type": "code",
   "execution_count": null,
   "metadata": {},
   "outputs": [],
   "source": []
  }
 ],
 "metadata": {
  "kernelspec": {
   "display_name": "xformers",
   "language": "python",
   "name": "python3"
  },
  "language_info": {
   "codemirror_mode": {
    "name": "ipython",
    "version": 3
   },
   "file_extension": ".py",
   "mimetype": "text/x-python",
   "name": "python",
   "nbconvert_exporter": "python",
   "pygments_lexer": "ipython3",
   "version": "3.10.12"
  },
  "orig_nbformat": 4
 },
 "nbformat": 4,
 "nbformat_minor": 2
}
