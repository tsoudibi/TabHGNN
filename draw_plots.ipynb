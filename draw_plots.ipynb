{
 "cells": [
  {
   "cell_type": "code",
   "execution_count": 2,
   "metadata": {},
   "outputs": [],
   "source": [
    "import matplotlib.pyplot as plt\n",
    "import os \n",
    "import json"
   ]
  },
  {
   "cell_type": "code",
   "execution_count": 5,
   "metadata": {},
   "outputs": [
    {
     "name": "stdout",
     "output_type": "stream",
     "text": [
      "adult_test_binary_AUC: 0.9140280877664487\n",
      "adult_train_binary_AUC: 0.9105617361750549\n",
      "adultbest_epoch: 194.4\n",
      "compas_test_binary_AUC: 0.7206121431929402\n",
      "compas_train_binary_AUC: 0.7190291479266936\n",
      "compasbest_epoch: 152.4\n",
      "eye_movements_num_test_binary_AUC: 0.6123181128698102\n",
      "eye_movements_num_train_binary_AUC: 0.602474314288582\n",
      "eye_movements_numbest_epoch: 147.4\n",
      "eye_movements_cat_test_binary_AUC: 0.6181266252711749\n",
      "eye_movements_cat_train_binary_AUC: 0.6080919792160401\n",
      "eye_movements_catbest_epoch: 93.2\n",
      "adult_test_ACC: 0.839004921913147\n",
      "adult_train_ACC: 0.8450512409210205\n",
      "adultbest_epoch: 140.4\n",
      "compas_test_ACC: 0.6682926893234253\n",
      "compas_train_ACC: 0.6635584712028504\n",
      "compasbest_epoch: 114.4\n",
      "eye_movements_num_test_ACC: 0.5853174567222595\n",
      "eye_movements_num_train_ACC: 0.560339093208313\n",
      "eye_movements_numbest_epoch: 72.2\n",
      "eye_movements_cat_test_ACC: 0.590079379081726\n",
      "eye_movements_cat_train_ACC: 0.5739361763000488\n",
      "eye_movements_catbest_epoch: 65.4\n"
     ]
    },
    {
     "data": {
      "text/plain": [
       "<Figure size 640x480 with 0 Axes>"
      ]
     },
     "metadata": {},
     "output_type": "display_data"
    },
    {
     "data": {
      "text/plain": [
       "<Figure size 640x480 with 0 Axes>"
      ]
     },
     "metadata": {},
     "output_type": "display_data"
    }
   ],
   "source": [
    "# dataset_list = ['adult']\n",
    "dataset_list = ['adult','compas','eye_movements_num','eye_movements_cat']\n",
    "# dataset_list = ['adult','compas','eye_movements_num','eye_movements_cat']\n",
    "metric_list = ['binary_AUC', 'ACC']\n",
    "\n",
    "for metric in metric_list:\n",
    "    plt.figure()\n",
    "    for dataset in dataset_list:\n",
    "        fold_best_test_metric = []\n",
    "        fold_best_train_metric = []\n",
    "        fold_best_epoch = []\n",
    "        for fold in range(5):\n",
    "            path = 'logs/' + dataset + '_' + metric + '_' + str(fold) + '/log.json'\n",
    "            with open(path, 'r') as f:\n",
    "                log = json.load(f)\n",
    "                fold_best_test_metric.append(log['best_test_metric'])\n",
    "                fold_best_train_metric.append(log['best_train_metric'])\n",
    "                fold_best_epoch.append(log['best_epoch'])\n",
    "                # print(log['best_test_metric'])\n",
    "        print(dataset + '_test_' + metric + ': ' + str(sum(fold_best_test_metric)/5))    \n",
    "        print(dataset + '_train_' + metric + ': ' + str(sum(fold_best_train_metric)/5))    \n",
    "        print(dataset + 'best_epoch' + ': ' + str(sum(fold_best_epoch)/5))    \n",
    "        # plt.bar(x = dataset + '_' + metric, height=sum(fold_best_test_metric)/5)\n",
    "        # plt.legend()\n",
    "        # plt.plot(fold_best_test_metric, label = dataset + '_' + metric)"
   ]
  },
  {
   "cell_type": "code",
   "execution_count": null,
   "metadata": {},
   "outputs": [],
   "source": []
  }
 ],
 "metadata": {
  "kernelspec": {
   "display_name": "xformers",
   "language": "python",
   "name": "python3"
  },
  "language_info": {
   "codemirror_mode": {
    "name": "ipython",
    "version": 3
   },
   "file_extension": ".py",
   "mimetype": "text/x-python",
   "name": "python",
   "nbconvert_exporter": "python",
   "pygments_lexer": "ipython3",
   "version": "3.10.12"
  },
  "orig_nbformat": 4
 },
 "nbformat": 4,
 "nbformat_minor": 2
}
