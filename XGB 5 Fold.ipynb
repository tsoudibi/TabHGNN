{
 "cells": [
  {
   "cell_type": "code",
   "execution_count": 76,
   "metadata": {},
   "outputs": [
    {
     "name": "stdout",
     "output_type": "stream",
     "text": [
      "0 query_indices [7, 3, 2]\n",
      "1 query_indices [8, 5, 6]\n",
      "2 query_indices [9, 4, 0]\n",
      "3 query_indices [1, 10]\n"
     ]
    }
   ],
   "source": [
    "import random\n",
    "    \n",
    "QUERY_POOL = list(range(11))\n",
    "random.shuffle(QUERY_POOL)\n",
    "for index in range(4):\n",
    "    # get the last 'batch_size_test' nodes as query nodes\n",
    "    query_indices = QUERY_POOL[:3]\n",
    "    QUERY_POOL = QUERY_POOL[3:]\n",
    "    print(index,'query_indices', query_indices)"
   ]
  },
  {
   "cell_type": "code",
   "execution_count": 77,
   "metadata": {},
   "outputs": [],
   "source": [
    "import pandas as pd\n",
    "# baic transformer Decoder model\n",
    "import torch\n",
    "import torch.nn as nn\n",
    "import torch.nn.functional as Fun\n",
    "import torch.optim as optim\n",
    "import numpy as np\n",
    "import xformers.ops as xops\n",
    "import math \n",
    "from typing import Optional, Union\n",
    "from torch import Tensor\n",
    "import random\n",
    "\n",
    "main_df = pd.read_csv('../data/RAW_data/adult.csv')\n",
    "main_df.head()\n",
    "DEVICE = 'cuda'\n",
    "# DEVICE = 'cpu'\n",
    "torch.random.manual_seed(42)\n",
    "random.seed(42)\n",
    "np.random.seed(42)\n",
    "torch.backends.cudnn.benchmark = False\n",
    "torch.backends.cudnn.deterministic = True\n",
    "torch.use_deterministic_algorithms(True)"
   ]
  },
  {
   "cell_type": "markdown",
   "metadata": {},
   "source": [
    "## 5 FOLD (transformed input)"
   ]
  },
  {
   "cell_type": "code",
   "execution_count": 1,
   "metadata": {},
   "outputs": [
    {
     "name": "stdout",
     "output_type": "stream",
     "text": [
      "=================[dataset is set to compas ]=================\n",
      "[0 1]\n",
      "Fold 0:\n",
      "X_train: (3972, 11), X_test: (994, 11)\n",
      "Y_train: (3972,), Y_test: (994,)\n",
      "auc: 0.6586965147539922\n",
      "acc: 0.596579476861167\n",
      "[0 1]\n",
      "Fold 1:\n",
      "X_train: (3973, 11), X_test: (993, 11)\n",
      "Y_train: (3973,), Y_test: (993,)\n",
      "auc: 0.6595726947471133\n",
      "acc: 0.608257804632427\n",
      "[0 1]\n",
      "Fold 2:\n",
      "X_train: (3973, 11), X_test: (993, 11)\n",
      "Y_train: (3973,), Y_test: (993,)\n",
      "auc: 0.6392174999594308\n",
      "acc: 0.6032225579053374\n",
      "[0 1]\n",
      "Fold 3:\n",
      "X_train: (3973, 11), X_test: (993, 11)\n",
      "Y_train: (3973,), Y_test: (993,)\n",
      "auc: 0.6923293795028234\n",
      "acc: 0.6475327291037261\n",
      "[0 1]\n",
      "Fold 4:\n",
      "X_train: (3973, 11), X_test: (993, 11)\n",
      "Y_train: (3973,), Y_test: (993,)\n",
      "auc: 0.6734875589526752\n",
      "acc: 0.6314199395770392\n",
      "Average AUC: 0.664660729583207\n",
      "Average ACC: 0.6174025016159395\n"
     ]
    }
   ],
   "source": [
    "import numpy as np\n",
    "from sklearn.model_selection import KFold\n",
    "import xgboost as xgb\n",
    "from sklearn.metrics import roc_auc_score, accuracy_score\n",
    "# import labelencoder\n",
    "from sklearn.preprocessing import LabelEncoder, OneHotEncoder\n",
    "from utils.utils import *\n",
    "import pandas as pd\n",
    "\n",
    "kf = KFold(n_splits=5, shuffle=True,random_state=42)\n",
    "AUCS = []\n",
    "ACCS = []\n",
    "# main_df = pd.read_csv('../data/RAW_data/adult.csv')\n",
    "main_df = pd.read_csv(select_dataset('compas'))\n",
    "# main_df = select_dataset('adult')\n",
    "# main_df =X_trans\n",
    "\n",
    "# 進行5-fold交叉驗證\n",
    "for index, (train_index, test_index) in enumerate(kf.split(main_df)):\n",
    "    X_train, X_test = main_df.loc[train_index], main_df.loc[test_index]\n",
    "    NUM, CAT, TARGET = get_feilds_attributes()\n",
    "    for column in NUM:\n",
    "        # min-max normalization\n",
    "        #X_train[column] = (X_train[column] - X_train[column].mean()) / (X_train[column].std())\n",
    "        #X_test[column] = (X_test[column] - X_test[column].mean()) / (X_test[column].std())\n",
    "        X_train[column] = X_train[column].astype(np.float32)\n",
    "        pass\n",
    "    le = LabelEncoder()\n",
    "    Y_train, Y_test = X_train[TARGET] , X_test[TARGET]\n",
    "    Y_train = le.fit_transform(Y_train)\n",
    "    Y_test = le.fit_transform(Y_test)\n",
    "\n",
    "    \n",
    "    X_train = X_train.drop(columns=TARGET)\n",
    "    X_test = X_test.drop(columns=TARGET)\n",
    "    \n",
    "    for column in CAT:\n",
    "        if column == TARGET:\n",
    "            continue\n",
    "        le = LabelEncoder()\n",
    "        le.fit(main_df[column].astype(str))\n",
    "        X_train[column] = le.transform(X_train[column].astype(str))\n",
    "        X_test[column] = le.transform(X_test[column].astype(str))\n",
    "    \n",
    "    print(f'Fold {index}:')\n",
    "    print(f'X_train: {X_train.shape}, X_test: {X_test.shape}')\n",
    "    print(f'Y_train: {Y_train.shape}, Y_test: {Y_test.shape}')\n",
    "    # print(X_train.head())\n",
    "    \n",
    "    from sklearn.ensemble import RandomForestClassifier\n",
    "    \n",
    "    model = RandomForestClassifier(random_state=42, n_jobs=-1, n_estimators=2000)\n",
    "    # model = xgb.XGBClassifier(random_state=42, n_jobs=-1, n_estimators=100)\n",
    "    model.fit(X_train, Y_train)\n",
    "    Y_prob = model.predict_proba(X_test)  #预测概率\n",
    "    Y_pred = model.predict(X_test) \n",
    "    acc = accuracy_score(Y_test, Y_pred)\n",
    "    auc = roc_auc_score(Y_test, Y_prob[:, 1])\n",
    "    AUCS.append(auc)\n",
    "    ACCS.append(acc)\n",
    "    print(f'auc: {auc}')\n",
    "    print(f'acc: {acc}')\n",
    "    \n",
    "print(f'Average AUC: {np.mean(AUCS)}')\n",
    "print(f'Average ACC: {np.mean(ACCS)}')"
   ]
  },
  {
   "cell_type": "markdown",
   "metadata": {},
   "source": []
  },
  {
   "cell_type": "code",
   "execution_count": null,
   "metadata": {},
   "outputs": [],
   "source": []
  }
 ],
 "metadata": {
  "kernelspec": {
   "display_name": "GNN",
   "language": "python",
   "name": "python3"
  },
  "language_info": {
   "codemirror_mode": {
    "name": "ipython",
    "version": 3
   },
   "file_extension": ".py",
   "mimetype": "text/x-python",
   "name": "python",
   "nbconvert_exporter": "python",
   "pygments_lexer": "ipython3",
   "version": "3.10.12"
  },
  "orig_nbformat": 4
 },
 "nbformat": 4,
 "nbformat_minor": 2
}
